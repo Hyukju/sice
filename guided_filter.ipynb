{
 "cells": [
  {
   "cell_type": "code",
   "execution_count": 1,
   "metadata": {},
   "outputs": [],
   "source": [
    "import cv2 \n",
    "import numpy as  np\n",
    "from time import time\n",
    "img = cv2.imread('iu.jpg')\n",
    "rows, cols = img.shape[:2]\n",
    "\n",
    "# row = np.random.randint(0,rows-129)\n",
    "# col = np.random.randint(0,cols-129)\n",
    "# row = 500\n",
    "# col = 1300\n",
    "# img = img[row:row + 129,col:col+129,:]\n",
    "img = cv2.resize(img, (640*2,480*2))\n",
    "base = cv2.ximgproc.guidedFilter(img, img, 4, 0.01 * 255 * 255)\n",
    "detail = img - base \n",
    "fusion = base + detail \n",
    "cv2.imshow('base',base)\n",
    "cv2.imshow('detail',detail)\n",
    "cv2.imshow('fusion',fusion)\n",
    "\n",
    "cv2.waitKey(0)\n",
    "cv2.destroyAllWindows()"
   ]
  },
  {
   "cell_type": "code",
   "execution_count": 3,
   "metadata": {},
   "outputs": [
    {
     "name": "stdout",
     "output_type": "stream",
     "text": [
      "delay =  84.742 ms\n",
      "delay =  82.779 ms\n",
      "delay =  66.820 ms\n"
     ]
    }
   ],
   "source": [
    "def guided_filter(img, guid_img, r, eps):\n",
    "    img = img.astype('float32') \n",
    "    guid_img = guid_img.astype('float32') \n",
    "    r = (2*r + 1, 2 * r + 1)\n",
    "    mean_i = cv2.boxFilter(img, ddepth=-1, ksize=r)\n",
    "    mean_p = cv2.boxFilter(guid_img, ddepth=-1, ksize=r)\n",
    "    corr_i = cv2.boxFilter(img * img, ddepth=-1, ksize=r)\n",
    "    corr_ip = cv2.boxFilter(img * guid_img, ddepth=-1, ksize=r)\n",
    "    var_i = corr_i - mean_i * mean_i\n",
    "    cov_ip = corr_ip - mean_i * mean_p\n",
    "    a = cov_ip / (var_i + eps * 255 * 255)\n",
    "    b = mean_p - a * mean_i\n",
    "    mean_a = cv2.boxFilter(a, ddepth=-1, ksize=r)\n",
    "    mean_b = cv2.boxFilter(b, ddepth=-1, ksize=r)\n",
    "    q = mean_a * img + mean_b\n",
    "    return q\n",
    "\n",
    "def my_guided2(img, guid_img, r, eps):\n",
    "    img = img.astype('float32') / 255.0\n",
    "    guid_img = guid_img.astype('float32') / 255.0\n",
    "    r = (2*r + 1, 2 * r + 1)\n",
    "    mean_i = cv2.GaussianBlur(img, r, 0)\n",
    "    mean_p = cv2.GaussianBlur(guid_img,  r, 0)\n",
    "    corr_i = cv2.GaussianBlur(img * img,  r, 0)\n",
    "    corr_ip = cv2.GaussianBlur(img * guid_img, r, 0)\n",
    "    var_i = corr_i - mean_i * mean_i\n",
    "    cov_ip = corr_ip - mean_i * mean_p\n",
    "    a = cov_ip / (var_i + eps)\n",
    "    b = mean_p - a * mean_i\n",
    "    mean_a = cv2.GaussianBlur(a, r, 0)\n",
    "    mean_b = cv2.GaussianBlur(b, r, 0)\n",
    "    q = mean_a * img + mean_b\n",
    "    return q\n",
    "\n",
    "r = 4\n",
    "eps1 = 0.1 ** 2\n",
    "eps2 = 0.2 ** 2 * 255 * 255\n",
    "\n",
    "start = time()\n",
    "q = guided_filter(img, img, r, eps1)\n",
    "print(f'delay =  {(time() - start) * 1000:.3f} ms')\n",
    "start = time()\n",
    "q2 = my_guided2(img, img, r, eps1)\n",
    "print(f'delay =  {(time() - start) * 1000:.3f} ms')\n",
    "start = time()\n",
    "q3 = cv2.ximgproc.guidedFilter(img, img, r, eps2)\n",
    "print(f'delay =  {(time() - start) * 1000:.3f} ms')\n",
    "start = time()\n",
    "\n",
    "\n",
    "cv2.imshow('src',img)\n",
    "cv2.imshow('guided',q / 255.0)\n",
    "cv2.imshow('guided2',q2)\n",
    "\n",
    "\n",
    "cv2.waitKey(0)\n",
    "cv2.destroyAllWindows()"
   ]
  }
 ],
 "metadata": {
  "interpreter": {
   "hash": "8430bf38ad61b60be2b6a0a3a97e217ccefc2e559c3985d06211c973ee92881a"
  },
  "kernelspec": {
   "display_name": "Python 3.8.8 ('base')",
   "language": "python",
   "name": "python3"
  },
  "language_info": {
   "codemirror_mode": {
    "name": "ipython",
    "version": 3
   },
   "file_extension": ".py",
   "mimetype": "text/x-python",
   "name": "python",
   "nbconvert_exporter": "python",
   "pygments_lexer": "ipython3",
   "version": "3.8.8"
  },
  "orig_nbformat": 4
 },
 "nbformat": 4,
 "nbformat_minor": 2
}
